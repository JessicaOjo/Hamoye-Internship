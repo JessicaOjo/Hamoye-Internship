{
  "nbformat": 4,
  "nbformat_minor": 0,
  "metadata": {
    "colab": {
      "name": "Stage E.ipynb",
      "provenance": [],
      "collapsed_sections": []
    },
    "kernelspec": {
      "name": "python3",
      "display_name": "Python 3"
    },
    "widgets": {
      "application/vnd.jupyter.widget-state+json": {
        "05629b49fd71454cb9ef4495df5b9328": {
          "model_module": "@jupyter-widgets/controls",
          "model_name": "HBoxModel",
          "state": {
            "_view_name": "HBoxView",
            "_dom_classes": [],
            "_model_name": "HBoxModel",
            "_view_module": "@jupyter-widgets/controls",
            "_model_module_version": "1.5.0",
            "_view_count": null,
            "_view_module_version": "1.5.0",
            "box_style": "",
            "layout": "IPY_MODEL_2387f60cb3674e1ca66b987d5a251eb2",
            "_model_module": "@jupyter-widgets/controls",
            "children": [
              "IPY_MODEL_14aaad70fbeb4b038e4dbd1911afc698",
              "IPY_MODEL_11a1465563904c369b92f7b8bf5427d1"
            ]
          }
        },
        "2387f60cb3674e1ca66b987d5a251eb2": {
          "model_module": "@jupyter-widgets/base",
          "model_name": "LayoutModel",
          "state": {
            "_view_name": "LayoutView",
            "grid_template_rows": null,
            "right": null,
            "justify_content": null,
            "_view_module": "@jupyter-widgets/base",
            "overflow": null,
            "_model_module_version": "1.2.0",
            "_view_count": null,
            "flex_flow": null,
            "width": null,
            "min_width": null,
            "border": null,
            "align_items": null,
            "bottom": null,
            "_model_module": "@jupyter-widgets/base",
            "top": null,
            "grid_column": null,
            "overflow_y": null,
            "overflow_x": null,
            "grid_auto_flow": null,
            "grid_area": null,
            "grid_template_columns": null,
            "flex": null,
            "_model_name": "LayoutModel",
            "justify_items": null,
            "grid_row": null,
            "max_height": null,
            "align_content": null,
            "visibility": null,
            "align_self": null,
            "height": null,
            "min_height": null,
            "padding": null,
            "grid_auto_rows": null,
            "grid_gap": null,
            "max_width": null,
            "order": null,
            "_view_module_version": "1.2.0",
            "grid_template_areas": null,
            "object_position": null,
            "object_fit": null,
            "grid_auto_columns": null,
            "margin": null,
            "display": null,
            "left": null
          }
        },
        "14aaad70fbeb4b038e4dbd1911afc698": {
          "model_module": "@jupyter-widgets/controls",
          "model_name": "FloatProgressModel",
          "state": {
            "_view_name": "ProgressView",
            "style": "IPY_MODEL_58dafb8fd4414ac59545e5167e54878f",
            "_dom_classes": [],
            "description": "100%",
            "_model_name": "FloatProgressModel",
            "bar_style": "success",
            "max": 1,
            "_view_module": "@jupyter-widgets/controls",
            "_model_module_version": "1.5.0",
            "value": 1,
            "_view_count": null,
            "_view_module_version": "1.5.0",
            "orientation": "horizontal",
            "min": 0,
            "description_tooltip": null,
            "_model_module": "@jupyter-widgets/controls",
            "layout": "IPY_MODEL_bd99936c5dd84d0abfdb8049753de54e"
          }
        },
        "11a1465563904c369b92f7b8bf5427d1": {
          "model_module": "@jupyter-widgets/controls",
          "model_name": "HTMLModel",
          "state": {
            "_view_name": "HTMLView",
            "style": "IPY_MODEL_bfe38163850842faac9ec14cf5ff7b3a",
            "_dom_classes": [],
            "description": "",
            "_model_name": "HTMLModel",
            "placeholder": "​",
            "_view_module": "@jupyter-widgets/controls",
            "_model_module_version": "1.5.0",
            "value": " 1/1 [01:08&lt;00:00, 68.47s/it]",
            "_view_count": null,
            "_view_module_version": "1.5.0",
            "description_tooltip": null,
            "_model_module": "@jupyter-widgets/controls",
            "layout": "IPY_MODEL_42d531481f2947b9a2fa65562dc69d89"
          }
        },
        "58dafb8fd4414ac59545e5167e54878f": {
          "model_module": "@jupyter-widgets/controls",
          "model_name": "ProgressStyleModel",
          "state": {
            "_view_name": "StyleView",
            "_model_name": "ProgressStyleModel",
            "description_width": "initial",
            "_view_module": "@jupyter-widgets/base",
            "_model_module_version": "1.5.0",
            "_view_count": null,
            "_view_module_version": "1.2.0",
            "bar_color": null,
            "_model_module": "@jupyter-widgets/controls"
          }
        },
        "bd99936c5dd84d0abfdb8049753de54e": {
          "model_module": "@jupyter-widgets/base",
          "model_name": "LayoutModel",
          "state": {
            "_view_name": "LayoutView",
            "grid_template_rows": null,
            "right": null,
            "justify_content": null,
            "_view_module": "@jupyter-widgets/base",
            "overflow": null,
            "_model_module_version": "1.2.0",
            "_view_count": null,
            "flex_flow": null,
            "width": null,
            "min_width": null,
            "border": null,
            "align_items": null,
            "bottom": null,
            "_model_module": "@jupyter-widgets/base",
            "top": null,
            "grid_column": null,
            "overflow_y": null,
            "overflow_x": null,
            "grid_auto_flow": null,
            "grid_area": null,
            "grid_template_columns": null,
            "flex": null,
            "_model_name": "LayoutModel",
            "justify_items": null,
            "grid_row": null,
            "max_height": null,
            "align_content": null,
            "visibility": null,
            "align_self": null,
            "height": null,
            "min_height": null,
            "padding": null,
            "grid_auto_rows": null,
            "grid_gap": null,
            "max_width": null,
            "order": null,
            "_view_module_version": "1.2.0",
            "grid_template_areas": null,
            "object_position": null,
            "object_fit": null,
            "grid_auto_columns": null,
            "margin": null,
            "display": null,
            "left": null
          }
        },
        "bfe38163850842faac9ec14cf5ff7b3a": {
          "model_module": "@jupyter-widgets/controls",
          "model_name": "DescriptionStyleModel",
          "state": {
            "_view_name": "StyleView",
            "_model_name": "DescriptionStyleModel",
            "description_width": "",
            "_view_module": "@jupyter-widgets/base",
            "_model_module_version": "1.5.0",
            "_view_count": null,
            "_view_module_version": "1.2.0",
            "_model_module": "@jupyter-widgets/controls"
          }
        },
        "42d531481f2947b9a2fa65562dc69d89": {
          "model_module": "@jupyter-widgets/base",
          "model_name": "LayoutModel",
          "state": {
            "_view_name": "LayoutView",
            "grid_template_rows": null,
            "right": null,
            "justify_content": null,
            "_view_module": "@jupyter-widgets/base",
            "overflow": null,
            "_model_module_version": "1.2.0",
            "_view_count": null,
            "flex_flow": null,
            "width": null,
            "min_width": null,
            "border": null,
            "align_items": null,
            "bottom": null,
            "_model_module": "@jupyter-widgets/base",
            "top": null,
            "grid_column": null,
            "overflow_y": null,
            "overflow_x": null,
            "grid_auto_flow": null,
            "grid_area": null,
            "grid_template_columns": null,
            "flex": null,
            "_model_name": "LayoutModel",
            "justify_items": null,
            "grid_row": null,
            "max_height": null,
            "align_content": null,
            "visibility": null,
            "align_self": null,
            "height": null,
            "min_height": null,
            "padding": null,
            "grid_auto_rows": null,
            "grid_gap": null,
            "max_width": null,
            "order": null,
            "_view_module_version": "1.2.0",
            "grid_template_areas": null,
            "object_position": null,
            "object_fit": null,
            "grid_auto_columns": null,
            "margin": null,
            "display": null,
            "left": null
          }
        },
        "b6017b9ee6104a1b961ba7fe36339085": {
          "model_module": "@jupyter-widgets/controls",
          "model_name": "HBoxModel",
          "state": {
            "_view_name": "HBoxView",
            "_dom_classes": [],
            "_model_name": "HBoxModel",
            "_view_module": "@jupyter-widgets/controls",
            "_model_module_version": "1.5.0",
            "_view_count": null,
            "_view_module_version": "1.5.0",
            "box_style": "",
            "layout": "IPY_MODEL_3c78925336e74122a94bdb29ff57c0c4",
            "_model_module": "@jupyter-widgets/controls",
            "children": [
              "IPY_MODEL_47098c7ea3b24ddd90965f82c6aabfe1",
              "IPY_MODEL_2a6bafd45b2f467e8cfdafd90cf6268f"
            ]
          }
        },
        "3c78925336e74122a94bdb29ff57c0c4": {
          "model_module": "@jupyter-widgets/base",
          "model_name": "LayoutModel",
          "state": {
            "_view_name": "LayoutView",
            "grid_template_rows": null,
            "right": null,
            "justify_content": null,
            "_view_module": "@jupyter-widgets/base",
            "overflow": null,
            "_model_module_version": "1.2.0",
            "_view_count": null,
            "flex_flow": null,
            "width": null,
            "min_width": null,
            "border": null,
            "align_items": null,
            "bottom": null,
            "_model_module": "@jupyter-widgets/base",
            "top": null,
            "grid_column": null,
            "overflow_y": null,
            "overflow_x": null,
            "grid_auto_flow": null,
            "grid_area": null,
            "grid_template_columns": null,
            "flex": null,
            "_model_name": "LayoutModel",
            "justify_items": null,
            "grid_row": null,
            "max_height": null,
            "align_content": null,
            "visibility": null,
            "align_self": null,
            "height": null,
            "min_height": null,
            "padding": null,
            "grid_auto_rows": null,
            "grid_gap": null,
            "max_width": null,
            "order": null,
            "_view_module_version": "1.2.0",
            "grid_template_areas": null,
            "object_position": null,
            "object_fit": null,
            "grid_auto_columns": null,
            "margin": null,
            "display": null,
            "left": null
          }
        },
        "47098c7ea3b24ddd90965f82c6aabfe1": {
          "model_module": "@jupyter-widgets/controls",
          "model_name": "FloatProgressModel",
          "state": {
            "_view_name": "ProgressView",
            "style": "IPY_MODEL_8202794c06ac413890641072b70dcb15",
            "_dom_classes": [],
            "description": "100%",
            "_model_name": "FloatProgressModel",
            "bar_style": "success",
            "max": 1,
            "_view_module": "@jupyter-widgets/controls",
            "_model_module_version": "1.5.0",
            "value": 1,
            "_view_count": null,
            "_view_module_version": "1.5.0",
            "orientation": "horizontal",
            "min": 0,
            "description_tooltip": null,
            "_model_module": "@jupyter-widgets/controls",
            "layout": "IPY_MODEL_543da703bdb641ec8433c37b0d1ada7b"
          }
        },
        "2a6bafd45b2f467e8cfdafd90cf6268f": {
          "model_module": "@jupyter-widgets/controls",
          "model_name": "HTMLModel",
          "state": {
            "_view_name": "HTMLView",
            "style": "IPY_MODEL_476637426c2f429c8faf5b172f6160a1",
            "_dom_classes": [],
            "description": "",
            "_model_name": "HTMLModel",
            "placeholder": "​",
            "_view_module": "@jupyter-widgets/controls",
            "_model_module_version": "1.5.0",
            "value": " 1/1 [00:03&lt;00:00,  3.45s/it]",
            "_view_count": null,
            "_view_module_version": "1.5.0",
            "description_tooltip": null,
            "_model_module": "@jupyter-widgets/controls",
            "layout": "IPY_MODEL_b813a4fc9e904e868b98eb5f8e700ea1"
          }
        },
        "8202794c06ac413890641072b70dcb15": {
          "model_module": "@jupyter-widgets/controls",
          "model_name": "ProgressStyleModel",
          "state": {
            "_view_name": "StyleView",
            "_model_name": "ProgressStyleModel",
            "description_width": "initial",
            "_view_module": "@jupyter-widgets/base",
            "_model_module_version": "1.5.0",
            "_view_count": null,
            "_view_module_version": "1.2.0",
            "bar_color": null,
            "_model_module": "@jupyter-widgets/controls"
          }
        },
        "543da703bdb641ec8433c37b0d1ada7b": {
          "model_module": "@jupyter-widgets/base",
          "model_name": "LayoutModel",
          "state": {
            "_view_name": "LayoutView",
            "grid_template_rows": null,
            "right": null,
            "justify_content": null,
            "_view_module": "@jupyter-widgets/base",
            "overflow": null,
            "_model_module_version": "1.2.0",
            "_view_count": null,
            "flex_flow": null,
            "width": null,
            "min_width": null,
            "border": null,
            "align_items": null,
            "bottom": null,
            "_model_module": "@jupyter-widgets/base",
            "top": null,
            "grid_column": null,
            "overflow_y": null,
            "overflow_x": null,
            "grid_auto_flow": null,
            "grid_area": null,
            "grid_template_columns": null,
            "flex": null,
            "_model_name": "LayoutModel",
            "justify_items": null,
            "grid_row": null,
            "max_height": null,
            "align_content": null,
            "visibility": null,
            "align_self": null,
            "height": null,
            "min_height": null,
            "padding": null,
            "grid_auto_rows": null,
            "grid_gap": null,
            "max_width": null,
            "order": null,
            "_view_module_version": "1.2.0",
            "grid_template_areas": null,
            "object_position": null,
            "object_fit": null,
            "grid_auto_columns": null,
            "margin": null,
            "display": null,
            "left": null
          }
        },
        "476637426c2f429c8faf5b172f6160a1": {
          "model_module": "@jupyter-widgets/controls",
          "model_name": "DescriptionStyleModel",
          "state": {
            "_view_name": "StyleView",
            "_model_name": "DescriptionStyleModel",
            "description_width": "",
            "_view_module": "@jupyter-widgets/base",
            "_model_module_version": "1.5.0",
            "_view_count": null,
            "_view_module_version": "1.2.0",
            "_model_module": "@jupyter-widgets/controls"
          }
        },
        "b813a4fc9e904e868b98eb5f8e700ea1": {
          "model_module": "@jupyter-widgets/base",
          "model_name": "LayoutModel",
          "state": {
            "_view_name": "LayoutView",
            "grid_template_rows": null,
            "right": null,
            "justify_content": null,
            "_view_module": "@jupyter-widgets/base",
            "overflow": null,
            "_model_module_version": "1.2.0",
            "_view_count": null,
            "flex_flow": null,
            "width": null,
            "min_width": null,
            "border": null,
            "align_items": null,
            "bottom": null,
            "_model_module": "@jupyter-widgets/base",
            "top": null,
            "grid_column": null,
            "overflow_y": null,
            "overflow_x": null,
            "grid_auto_flow": null,
            "grid_area": null,
            "grid_template_columns": null,
            "flex": null,
            "_model_name": "LayoutModel",
            "justify_items": null,
            "grid_row": null,
            "max_height": null,
            "align_content": null,
            "visibility": null,
            "align_self": null,
            "height": null,
            "min_height": null,
            "padding": null,
            "grid_auto_rows": null,
            "grid_gap": null,
            "max_width": null,
            "order": null,
            "_view_module_version": "1.2.0",
            "grid_template_areas": null,
            "object_position": null,
            "object_fit": null,
            "grid_auto_columns": null,
            "margin": null,
            "display": null,
            "left": null
          }
        }
      }
    }
  },
  "cells": [
    {
      "cell_type": "code",
      "metadata": {
        "id": "jc61AOq-pQw8"
      },
      "source": [
        "import pandas as pd\n",
        "import numpy as np\n",
        "import matplotlib.pyplot as plt\n"
      ],
      "execution_count": 1,
      "outputs": []
    },
    {
      "cell_type": "markdown",
      "metadata": {
        "id": "gStG472wqNGN"
      },
      "source": [
        "### Loading the dataset"
      ]
    },
    {
      "cell_type": "code",
      "metadata": {
        "id": "0IXbhcQMpuub",
        "outputId": "136a7fe9-04a1-4182-b976-692da19272f2",
        "colab": {
          "base_uri": "https://localhost:8080/",
          "height": 34
        }
      },
      "source": [
        "from urllib.request import urlretrieve\n",
        "url = 'https://archive.ics.uci.edu/ml/machine-learning-databases/00235/household_power_consumption.zip'\n",
        "filename = 'household_power_consumption'\n",
        "urlretrieve(url, filename)"
      ],
      "execution_count": 2,
      "outputs": [
        {
          "output_type": "execute_result",
          "data": {
            "text/plain": [
              "('household_power_consumption', <http.client.HTTPMessage at 0x7f2f4db4d0f0>)"
            ]
          },
          "metadata": {
            "tags": []
          },
          "execution_count": 2
        }
      ]
    },
    {
      "cell_type": "code",
      "metadata": {
        "id": "0AbDlob0puqJ",
        "outputId": "c931c0fb-58bb-4c06-af1c-126bd596f64c",
        "colab": {
          "base_uri": "https://localhost:8080/",
          "height": 51
        }
      },
      "source": [
        "!unzip household_power_consumption"
      ],
      "execution_count": 3,
      "outputs": [
        {
          "output_type": "stream",
          "text": [
            "Archive:  household_power_consumption\n",
            "  inflating: household_power_consumption.txt  \n"
          ],
          "name": "stdout"
        }
      ]
    },
    {
      "cell_type": "code",
      "metadata": {
        "id": "ZWGjOKcwppit",
        "outputId": "f30e7386-89b6-4530-ad8a-8fbcdcefd7b8",
        "colab": {
          "base_uri": "https://localhost:8080/",
          "height": 235
        }
      },
      "source": [
        "df = pd.read_csv('household_power_consumption.txt', \n",
        "                 sep=';', header=0, low_memory=False, \n",
        "                 infer_datetime_format=True, \n",
        "                 parse_dates={'datetime':[0,1]}, \n",
        "                 index_col=['datetime'],\n",
        "                 na_values='?', dtype= float)\n",
        "#note that the missing values(na values) were indicated with ?, hence why had to define the type of na values the data contains\n",
        "df.head()"
      ],
      "execution_count": 4,
      "outputs": [
        {
          "output_type": "execute_result",
          "data": {
            "text/html": [
              "<div>\n",
              "<style scoped>\n",
              "    .dataframe tbody tr th:only-of-type {\n",
              "        vertical-align: middle;\n",
              "    }\n",
              "\n",
              "    .dataframe tbody tr th {\n",
              "        vertical-align: top;\n",
              "    }\n",
              "\n",
              "    .dataframe thead th {\n",
              "        text-align: right;\n",
              "    }\n",
              "</style>\n",
              "<table border=\"1\" class=\"dataframe\">\n",
              "  <thead>\n",
              "    <tr style=\"text-align: right;\">\n",
              "      <th></th>\n",
              "      <th>Global_active_power</th>\n",
              "      <th>Global_reactive_power</th>\n",
              "      <th>Voltage</th>\n",
              "      <th>Global_intensity</th>\n",
              "      <th>Sub_metering_1</th>\n",
              "      <th>Sub_metering_2</th>\n",
              "      <th>Sub_metering_3</th>\n",
              "    </tr>\n",
              "    <tr>\n",
              "      <th>datetime</th>\n",
              "      <th></th>\n",
              "      <th></th>\n",
              "      <th></th>\n",
              "      <th></th>\n",
              "      <th></th>\n",
              "      <th></th>\n",
              "      <th></th>\n",
              "    </tr>\n",
              "  </thead>\n",
              "  <tbody>\n",
              "    <tr>\n",
              "      <th>2006-12-16 17:24:00</th>\n",
              "      <td>4.216</td>\n",
              "      <td>0.418</td>\n",
              "      <td>234.84</td>\n",
              "      <td>18.4</td>\n",
              "      <td>0.0</td>\n",
              "      <td>1.0</td>\n",
              "      <td>17.0</td>\n",
              "    </tr>\n",
              "    <tr>\n",
              "      <th>2006-12-16 17:25:00</th>\n",
              "      <td>5.360</td>\n",
              "      <td>0.436</td>\n",
              "      <td>233.63</td>\n",
              "      <td>23.0</td>\n",
              "      <td>0.0</td>\n",
              "      <td>1.0</td>\n",
              "      <td>16.0</td>\n",
              "    </tr>\n",
              "    <tr>\n",
              "      <th>2006-12-16 17:26:00</th>\n",
              "      <td>5.374</td>\n",
              "      <td>0.498</td>\n",
              "      <td>233.29</td>\n",
              "      <td>23.0</td>\n",
              "      <td>0.0</td>\n",
              "      <td>2.0</td>\n",
              "      <td>17.0</td>\n",
              "    </tr>\n",
              "    <tr>\n",
              "      <th>2006-12-16 17:27:00</th>\n",
              "      <td>5.388</td>\n",
              "      <td>0.502</td>\n",
              "      <td>233.74</td>\n",
              "      <td>23.0</td>\n",
              "      <td>0.0</td>\n",
              "      <td>1.0</td>\n",
              "      <td>17.0</td>\n",
              "    </tr>\n",
              "    <tr>\n",
              "      <th>2006-12-16 17:28:00</th>\n",
              "      <td>3.666</td>\n",
              "      <td>0.528</td>\n",
              "      <td>235.68</td>\n",
              "      <td>15.8</td>\n",
              "      <td>0.0</td>\n",
              "      <td>1.0</td>\n",
              "      <td>17.0</td>\n",
              "    </tr>\n",
              "  </tbody>\n",
              "</table>\n",
              "</div>"
            ],
            "text/plain": [
              "                     Global_active_power  ...  Sub_metering_3\n",
              "datetime                                  ...                \n",
              "2006-12-16 17:24:00                4.216  ...            17.0\n",
              "2006-12-16 17:25:00                5.360  ...            16.0\n",
              "2006-12-16 17:26:00                5.374  ...            17.0\n",
              "2006-12-16 17:27:00                5.388  ...            17.0\n",
              "2006-12-16 17:28:00                3.666  ...            17.0\n",
              "\n",
              "[5 rows x 7 columns]"
            ]
          },
          "metadata": {
            "tags": []
          },
          "execution_count": 4
        }
      ]
    },
    {
      "cell_type": "code",
      "metadata": {
        "id": "3k5fZv3RptHO",
        "outputId": "26f80cb5-18fb-462c-9094-60798c515eff",
        "colab": {
          "base_uri": "https://localhost:8080/",
          "height": 153
        }
      },
      "source": [
        "df.dtypes"
      ],
      "execution_count": 5,
      "outputs": [
        {
          "output_type": "execute_result",
          "data": {
            "text/plain": [
              "Global_active_power      float64\n",
              "Global_reactive_power    float64\n",
              "Voltage                  float64\n",
              "Global_intensity         float64\n",
              "Sub_metering_1           float64\n",
              "Sub_metering_2           float64\n",
              "Sub_metering_3           float64\n",
              "dtype: object"
            ]
          },
          "metadata": {
            "tags": []
          },
          "execution_count": 5
        }
      ]
    },
    {
      "cell_type": "code",
      "metadata": {
        "id": "SYjjfCJVqF0b",
        "outputId": "94124808-467d-44c7-90e8-8ce78d991831",
        "colab": {
          "base_uri": "https://localhost:8080/",
          "height": 34
        }
      },
      "source": [
        "df.shape"
      ],
      "execution_count": 6,
      "outputs": [
        {
          "output_type": "execute_result",
          "data": {
            "text/plain": [
              "(2075259, 7)"
            ]
          },
          "metadata": {
            "tags": []
          },
          "execution_count": 6
        }
      ]
    },
    {
      "cell_type": "markdown",
      "metadata": {
        "id": "OAArKmm6qRWw"
      },
      "source": [
        "### Handling missing values"
      ]
    },
    {
      "cell_type": "code",
      "metadata": {
        "id": "QOcrYtToqJdW",
        "outputId": "c52703e0-e7de-4601-c9e9-122d4a51cc0c",
        "colab": {
          "base_uri": "https://localhost:8080/",
          "height": 153
        }
      },
      "source": [
        "#check for missing values\n",
        "df.isna().sum()"
      ],
      "execution_count": 7,
      "outputs": [
        {
          "output_type": "execute_result",
          "data": {
            "text/plain": [
              "Global_active_power      25979\n",
              "Global_reactive_power    25979\n",
              "Voltage                  25979\n",
              "Global_intensity         25979\n",
              "Sub_metering_1           25979\n",
              "Sub_metering_2           25979\n",
              "Sub_metering_3           25979\n",
              "dtype: int64"
            ]
          },
          "metadata": {
            "tags": []
          },
          "execution_count": 7
        }
      ]
    },
    {
      "cell_type": "code",
      "metadata": {
        "id": "lDvzM2xoqbOK",
        "outputId": "cb4f9667-a671-44a1-b5e5-44163c88fd37",
        "colab": {
          "base_uri": "https://localhost:8080/",
          "height": 153
        }
      },
      "source": [
        "#fill the missing values\n",
        "df.fillna(method='ffill', inplace=True)\n",
        "df.isna().sum()"
      ],
      "execution_count": 8,
      "outputs": [
        {
          "output_type": "execute_result",
          "data": {
            "text/plain": [
              "Global_active_power      0\n",
              "Global_reactive_power    0\n",
              "Voltage                  0\n",
              "Global_intensity         0\n",
              "Sub_metering_1           0\n",
              "Sub_metering_2           0\n",
              "Sub_metering_3           0\n",
              "dtype: int64"
            ]
          },
          "metadata": {
            "tags": []
          },
          "execution_count": 8
        }
      ]
    },
    {
      "cell_type": "markdown",
      "metadata": {
        "id": "V32TPVK5qo0W"
      },
      "source": [
        "### Exploratory analysis"
      ]
    },
    {
      "cell_type": "code",
      "metadata": {
        "id": "Wd0o8k7nqgfB",
        "outputId": "c047abd3-a4eb-4a56-c90e-d186b774d092",
        "colab": {
          "base_uri": "https://localhost:8080/",
          "height": 235
        }
      },
      "source": [
        "#Downsample to daily data points\n",
        "df_daily = df.resample('D').sum()\n",
        "df_daily.head()"
      ],
      "execution_count": 9,
      "outputs": [
        {
          "output_type": "execute_result",
          "data": {
            "text/html": [
              "<div>\n",
              "<style scoped>\n",
              "    .dataframe tbody tr th:only-of-type {\n",
              "        vertical-align: middle;\n",
              "    }\n",
              "\n",
              "    .dataframe tbody tr th {\n",
              "        vertical-align: top;\n",
              "    }\n",
              "\n",
              "    .dataframe thead th {\n",
              "        text-align: right;\n",
              "    }\n",
              "</style>\n",
              "<table border=\"1\" class=\"dataframe\">\n",
              "  <thead>\n",
              "    <tr style=\"text-align: right;\">\n",
              "      <th></th>\n",
              "      <th>Global_active_power</th>\n",
              "      <th>Global_reactive_power</th>\n",
              "      <th>Voltage</th>\n",
              "      <th>Global_intensity</th>\n",
              "      <th>Sub_metering_1</th>\n",
              "      <th>Sub_metering_2</th>\n",
              "      <th>Sub_metering_3</th>\n",
              "    </tr>\n",
              "    <tr>\n",
              "      <th>datetime</th>\n",
              "      <th></th>\n",
              "      <th></th>\n",
              "      <th></th>\n",
              "      <th></th>\n",
              "      <th></th>\n",
              "      <th></th>\n",
              "      <th></th>\n",
              "    </tr>\n",
              "  </thead>\n",
              "  <tbody>\n",
              "    <tr>\n",
              "      <th>2006-12-16</th>\n",
              "      <td>1209.176</td>\n",
              "      <td>34.922</td>\n",
              "      <td>93552.53</td>\n",
              "      <td>5180.8</td>\n",
              "      <td>0.0</td>\n",
              "      <td>546.0</td>\n",
              "      <td>4926.0</td>\n",
              "    </tr>\n",
              "    <tr>\n",
              "      <th>2006-12-17</th>\n",
              "      <td>3390.460</td>\n",
              "      <td>226.006</td>\n",
              "      <td>345725.32</td>\n",
              "      <td>14398.6</td>\n",
              "      <td>2033.0</td>\n",
              "      <td>4187.0</td>\n",
              "      <td>13341.0</td>\n",
              "    </tr>\n",
              "    <tr>\n",
              "      <th>2006-12-18</th>\n",
              "      <td>2203.826</td>\n",
              "      <td>161.792</td>\n",
              "      <td>347373.64</td>\n",
              "      <td>9247.2</td>\n",
              "      <td>1063.0</td>\n",
              "      <td>2621.0</td>\n",
              "      <td>14018.0</td>\n",
              "    </tr>\n",
              "    <tr>\n",
              "      <th>2006-12-19</th>\n",
              "      <td>1666.194</td>\n",
              "      <td>150.942</td>\n",
              "      <td>348479.01</td>\n",
              "      <td>7094.0</td>\n",
              "      <td>839.0</td>\n",
              "      <td>7602.0</td>\n",
              "      <td>6197.0</td>\n",
              "    </tr>\n",
              "    <tr>\n",
              "      <th>2006-12-20</th>\n",
              "      <td>2225.748</td>\n",
              "      <td>160.998</td>\n",
              "      <td>348923.61</td>\n",
              "      <td>9313.0</td>\n",
              "      <td>0.0</td>\n",
              "      <td>2648.0</td>\n",
              "      <td>14063.0</td>\n",
              "    </tr>\n",
              "  </tbody>\n",
              "</table>\n",
              "</div>"
            ],
            "text/plain": [
              "            Global_active_power  ...  Sub_metering_3\n",
              "datetime                         ...                \n",
              "2006-12-16             1209.176  ...          4926.0\n",
              "2006-12-17             3390.460  ...         13341.0\n",
              "2006-12-18             2203.826  ...         14018.0\n",
              "2006-12-19             1666.194  ...          6197.0\n",
              "2006-12-20             2225.748  ...         14063.0\n",
              "\n",
              "[5 rows x 7 columns]"
            ]
          },
          "metadata": {
            "tags": []
          },
          "execution_count": 9
        }
      ]
    },
    {
      "cell_type": "code",
      "metadata": {
        "id": "vOExzuV5qkVt",
        "outputId": "b9342a4c-f43c-4e15-eb4e-bb52198af8c7",
        "colab": {
          "base_uri": "https://localhost:8080/",
          "height": 409
        }
      },
      "source": [
        "plt.figure(figsize=( 10 , 6 ))\n",
        "plt.plot(df_daily.index, df_daily.Global_active_power)\n",
        "plt.grid()\n",
        "plt.xlabel( 'Date' )\n",
        "plt.ylabel( 'Global_active_power' )"
      ],
      "execution_count": 10,
      "outputs": [
        {
          "output_type": "execute_result",
          "data": {
            "text/plain": [
              "Text(0, 0.5, 'Global_active_power')"
            ]
          },
          "metadata": {
            "tags": []
          },
          "execution_count": 10
        },
        {
          "output_type": "display_data",
          "data": {
            "image/png": "[encoded data removed]",
            "text/plain": [
              "<Figure size 720x432 with 1 Axes>"
            ]
          },
          "metadata": {
            "tags": [],
            "needs_background": "light"
          }
        }
      ]
    },
    {
      "cell_type": "code",
      "metadata": {
        "id": "8vO1c_q0qvzk",
        "outputId": "1f5c05b7-1249-4c07-915c-daac214440c0",
        "colab": {
          "base_uri": "https://localhost:8080/",
          "height": 639
        }
      },
      "source": [
        "import statsmodels.api as sm\n",
        "from pylab import rcParams\n",
        "rcParams['figure.figsize']= 15,8\n",
        "decompose_series = sm.tsa.seasonal_decompose(df_daily['Global_active_power'], model='addictive')\n",
        "decompose_series.plot()\n",
        "plt.show()"
      ],
      "execution_count": 11,
      "outputs": [
        {
          "output_type": "stream",
          "text": [
            "/usr/local/lib/python3.6/dist-packages/statsmodels/tools/_testing.py:19: FutureWarning: pandas.util.testing is deprecated. Use the functions in the public API at pandas.testing instead.\n",
            "  import pandas.util.testing as tm\n"
          ],
          "name": "stderr"
        },
        {
          "output_type": "display_data",
          "data": {
            "image/png": "[encoded data removed]",
            "text/plain": [
              "<Figure size 1080x576 with 4 Axes>"
            ]
          },
          "metadata": {
            "tags": [],
            "needs_background": "light"
          }
        }
      ]
    },
    {
      "cell_type": "markdown",
      "metadata": {
        "id": "nphkeP9frB9s"
      },
      "source": [
        "### checking for stationarity"
      ]
    },
    {
      "cell_type": "code",
      "metadata": {
        "id": "ttekAFSvrG7i",
        "outputId": "efb0320f-18c9-434b-9203-09803e7f4e1b",
        "colab": {
          "base_uri": "https://localhost:8080/",
          "height": 533
        }
      },
      "source": [
        "#using the visualization method\n",
        "df_log=np.log(df_daily)\n",
        "df_diff = df_log.diff(periods=1)\n",
        "plt.plot(df_diff, color='blue',label='Differenced')\n",
        "plt.plot(df_diff.rolling(180).mean(),color = 'red', label='mean')\n",
        "plt.plot(df_diff.rolling(180).std(), color='green', label='std')\n",
        "plt.title('Differenced Data')\n",
        "plt.legend(loc='best')\n",
        "plt.grid()\n",
        "plt.show()"
      ],
      "execution_count": 12,
      "outputs": [
        {
          "output_type": "stream",
          "text": [
            "/usr/local/lib/python3.6/dist-packages/ipykernel_launcher.py:2: RuntimeWarning: divide by zero encountered in log\n",
            "  \n"
          ],
          "name": "stderr"
        },
        {
          "output_type": "display_data",
          "data": {
            "image/png": "[encoded data removed]",
            "text/plain": [
              "<Figure size 1080x576 with 1 Axes>"
            ]
          },
          "metadata": {
            "tags": [],
            "needs_background": "light"
          }
        }
      ]
    },
    {
      "cell_type": "markdown",
      "metadata": {
        "id": "KOs8njU4rRKy"
      },
      "source": [
        "From the image it can be observed that both the mean and standard devation are relatively stable indicating that the time series is stationary"
      ]
    },
    {
      "cell_type": "code",
      "metadata": {
        "id": "PrjCFGy8q0Av",
        "outputId": "dc89837d-bde0-469f-b23d-50b359344978",
        "colab": {
          "base_uri": "https://localhost:8080/",
          "height": 153
        }
      },
      "source": [
        "#using the unit root test method\n",
        "from statsmodels.tsa.stattools import adfuller\n",
        "adf = adfuller(df_daily['Global_active_power'])\n",
        "print(f'Adf statistic: {adf[0]}')\n",
        "print(f'p-value: {adf[1]}')\n",
        "print(f'no of lags used: {adf[2]}')\n",
        "print(f'no of observations: {adf[3]}  ')\n",
        "print('Critical values:')\n",
        "for k, v in adf[4].items():\n",
        "  print(f'  {k}: {v}')"
      ],
      "execution_count": 13,
      "outputs": [
        {
          "output_type": "stream",
          "text": [
            "Adf statistic: -3.7600523102137893\n",
            "p-value: 0.0033435208887408374\n",
            "no of lags used: 22\n",
            "no of observations: 1419  \n",
            "Critical values:\n",
            "  1%: -3.434966750462565\n",
            "  5%: -2.8635789736973725\n",
            "  10%: -2.5678555388041384\n"
          ],
          "name": "stdout"
        }
      ]
    },
    {
      "cell_type": "markdown",
      "metadata": {
        "id": "DIV1f73xrnQ8"
      },
      "source": [
        "The unit root test gave a p-value of 0.003 which is less than 0.05, that means the time series is stationary"
      ]
    },
    {
      "cell_type": "markdown",
      "metadata": {
        "id": "AF_ed0-vsSZP"
      },
      "source": [
        "### Pearson Correlation"
      ]
    },
    {
      "cell_type": "code",
      "metadata": {
        "id": "_G0cST86sV_C",
        "outputId": "7398b5b8-935a-4027-dfcd-4ffd26a0cebb",
        "colab": {
          "base_uri": "https://localhost:8080/",
          "height": 34
        }
      },
      "source": [
        "from scipy.stats import pearsonr \n",
        "corr, _ = pearsonr(df['Global_active_power'], df['Global_reactive_power']) \n",
        "print('Pearsons correlation between Global active power and Global reactive power: %.3f' % corr)"
      ],
      "execution_count": 14,
      "outputs": [
        {
          "output_type": "stream",
          "text": [
            "Pearsons correlation between Global active power and Global reactive power: 0.246\n"
          ],
          "name": "stdout"
        }
      ]
    },
    {
      "cell_type": "code",
      "metadata": {
        "id": "T3LbTj20uEw6",
        "outputId": "94ee0331-3708-4a2f-92d3-21f5635235f2",
        "colab": {
          "base_uri": "https://localhost:8080/",
          "height": 34
        }
      },
      "source": [
        "corr1, _ = pearsonr(df['Voltage'], df['Global_intensity']) \n",
        "print('Pearsons correlation between Voltage and Global intensity: %.3f' % corr1)"
      ],
      "execution_count": 15,
      "outputs": [
        {
          "output_type": "stream",
          "text": [
            "Pearsons correlation between Voltage and Global intensity: -0.407\n"
          ],
          "name": "stdout"
        }
      ]
    },
    {
      "cell_type": "markdown",
      "metadata": {
        "id": "1Zj3cu3lr7Ip"
      },
      "source": [
        "### Preprocessing"
      ]
    },
    {
      "cell_type": "code",
      "metadata": {
        "id": "6FT0gZetvRME"
      },
      "source": [
        "df_daily2 = df_daily.reset_index()"
      ],
      "execution_count": 16,
      "outputs": []
    },
    {
      "cell_type": "code",
      "metadata": {
        "id": "ApbnoHWArmXr",
        "outputId": "0a62cc9d-0270-4486-af35-368bdadac8cb",
        "colab": {
          "base_uri": "https://localhost:8080/",
          "height": 34
        }
      },
      "source": [
        "df_daily2.shape"
      ],
      "execution_count": 17,
      "outputs": [
        {
          "output_type": "execute_result",
          "data": {
            "text/plain": [
              "(1442, 8)"
            ]
          },
          "metadata": {
            "tags": []
          },
          "execution_count": 17
        }
      ]
    },
    {
      "cell_type": "code",
      "metadata": {
        "id": "mUWAyneZwJ0b",
        "outputId": "7f1c6d27-0292-4be4-d18f-8386bf42d303",
        "colab": {
          "base_uri": "https://localhost:8080/",
          "height": 204
        }
      },
      "source": [
        "dff = df_daily2[['datetime','Global_active_power']]\n",
        "dff = dff.rename(columns={\"datetime\": \"ds\", \"Global_active_power\": \"y\"})\n",
        "dff.head()"
      ],
      "execution_count": 18,
      "outputs": [
        {
          "output_type": "execute_result",
          "data": {
            "text/html": [
              "<div>\n",
              "<style scoped>\n",
              "    .dataframe tbody tr th:only-of-type {\n",
              "        vertical-align: middle;\n",
              "    }\n",
              "\n",
              "    .dataframe tbody tr th {\n",
              "        vertical-align: top;\n",
              "    }\n",
              "\n",
              "    .dataframe thead th {\n",
              "        text-align: right;\n",
              "    }\n",
              "</style>\n",
              "<table border=\"1\" class=\"dataframe\">\n",
              "  <thead>\n",
              "    <tr style=\"text-align: right;\">\n",
              "      <th></th>\n",
              "      <th>ds</th>\n",
              "      <th>y</th>\n",
              "    </tr>\n",
              "  </thead>\n",
              "  <tbody>\n",
              "    <tr>\n",
              "      <th>0</th>\n",
              "      <td>2006-12-16</td>\n",
              "      <td>1209.176</td>\n",
              "    </tr>\n",
              "    <tr>\n",
              "      <th>1</th>\n",
              "      <td>2006-12-17</td>\n",
              "      <td>3390.460</td>\n",
              "    </tr>\n",
              "    <tr>\n",
              "      <th>2</th>\n",
              "      <td>2006-12-18</td>\n",
              "      <td>2203.826</td>\n",
              "    </tr>\n",
              "    <tr>\n",
              "      <th>3</th>\n",
              "      <td>2006-12-19</td>\n",
              "      <td>1666.194</td>\n",
              "    </tr>\n",
              "    <tr>\n",
              "      <th>4</th>\n",
              "      <td>2006-12-20</td>\n",
              "      <td>2225.748</td>\n",
              "    </tr>\n",
              "  </tbody>\n",
              "</table>\n",
              "</div>"
            ],
            "text/plain": [
              "          ds         y\n",
              "0 2006-12-16  1209.176\n",
              "1 2006-12-17  3390.460\n",
              "2 2006-12-18  2203.826\n",
              "3 2006-12-19  1666.194\n",
              "4 2006-12-20  2225.748"
            ]
          },
          "metadata": {
            "tags": []
          },
          "execution_count": 18
        }
      ]
    },
    {
      "cell_type": "code",
      "metadata": {
        "id": "ndSx0J-LrhFO"
      },
      "source": [
        "train = dff.iloc[:1077]\n",
        "test= dff.iloc[1077:]"
      ],
      "execution_count": 19,
      "outputs": []
    },
    {
      "cell_type": "code",
      "metadata": {
        "id": "im1zhsyIu9ix",
        "outputId": "b9162dbd-697a-4b66-8f42-ee35ef71b0b5",
        "colab": {
          "base_uri": "https://localhost:8080/",
          "height": 34
        }
      },
      "source": [
        "train.shape"
      ],
      "execution_count": 20,
      "outputs": [
        {
          "output_type": "execute_result",
          "data": {
            "text/plain": [
              "(1077, 2)"
            ]
          },
          "metadata": {
            "tags": []
          },
          "execution_count": 20
        }
      ]
    },
    {
      "cell_type": "code",
      "metadata": {
        "id": "baIs1rYyvARi",
        "outputId": "952fda60-de77-4440-8431-0a3d6e2addf7",
        "colab": {
          "base_uri": "https://localhost:8080/",
          "height": 68
        }
      },
      "source": [
        "test.shape\n",
        "test.dtypes"
      ],
      "execution_count": 30,
      "outputs": [
        {
          "output_type": "execute_result",
          "data": {
            "text/plain": [
              "ds    datetime64[ns]\n",
              "y            float64\n",
              "dtype: object"
            ]
          },
          "metadata": {
            "tags": []
          },
          "execution_count": 30
        }
      ]
    },
    {
      "cell_type": "markdown",
      "metadata": {
        "id": "zXhkRDqxwgX9"
      },
      "source": [
        "### Modelling"
      ]
    },
    {
      "cell_type": "code",
      "metadata": {
        "id": "F_8xFelXwZrN",
        "outputId": "7c7435e9-559f-4b0e-bf71-5d701fbbdd8f",
        "colab": {
          "base_uri": "https://localhost:8080/",
          "height": 51
        }
      },
      "source": [
        "from fbprophet import Prophet\n",
        "model = Prophet()\n",
        "model.fit(train)"
      ],
      "execution_count": 22,
      "outputs": [
        {
          "output_type": "stream",
          "text": [
            "INFO:fbprophet:Disabling daily seasonality. Run prophet with daily_seasonality=True to override this.\n"
          ],
          "name": "stderr"
        },
        {
          "output_type": "execute_result",
          "data": {
            "text/plain": [
              "<fbprophet.forecaster.Prophet at 0x7f2f33d1b630>"
            ]
          },
          "metadata": {
            "tags": []
          },
          "execution_count": 22
        }
      ]
    },
    {
      "cell_type": "code",
      "metadata": {
        "id": "6uLB4uMywol7",
        "outputId": "68518c4f-d91a-4ce7-ec82-8113a3114406",
        "colab": {
          "base_uri": "https://localhost:8080/",
          "height": 309
        }
      },
      "source": [
        "future = model.make_future_dataframe(periods = 365, freq='D', include_history = False)\n",
        "forecast = model.predict(future)\n",
        "forecast.head()"
      ],
      "execution_count": 23,
      "outputs": [
        {
          "output_type": "execute_result",
          "data": {
            "text/html": [
              "<div>\n",
              "<style scoped>\n",
              "    .dataframe tbody tr th:only-of-type {\n",
              "        vertical-align: middle;\n",
              "    }\n",
              "\n",
              "    .dataframe tbody tr th {\n",
              "        vertical-align: top;\n",
              "    }\n",
              "\n",
              "    .dataframe thead th {\n",
              "        text-align: right;\n",
              "    }\n",
              "</style>\n",
              "<table border=\"1\" class=\"dataframe\">\n",
              "  <thead>\n",
              "    <tr style=\"text-align: right;\">\n",
              "      <th></th>\n",
              "      <th>ds</th>\n",
              "      <th>trend</th>\n",
              "      <th>yhat_lower</th>\n",
              "      <th>yhat_upper</th>\n",
              "      <th>trend_lower</th>\n",
              "      <th>trend_upper</th>\n",
              "      <th>additive_terms</th>\n",
              "      <th>additive_terms_lower</th>\n",
              "      <th>additive_terms_upper</th>\n",
              "      <th>weekly</th>\n",
              "      <th>weekly_lower</th>\n",
              "      <th>weekly_upper</th>\n",
              "      <th>yearly</th>\n",
              "      <th>yearly_lower</th>\n",
              "      <th>yearly_upper</th>\n",
              "      <th>multiplicative_terms</th>\n",
              "      <th>multiplicative_terms_lower</th>\n",
              "      <th>multiplicative_terms_upper</th>\n",
              "      <th>yhat</th>\n",
              "    </tr>\n",
              "  </thead>\n",
              "  <tbody>\n",
              "    <tr>\n",
              "      <th>0</th>\n",
              "      <td>2009-11-27</td>\n",
              "      <td>1565.003639</td>\n",
              "      <td>1506.279733</td>\n",
              "      <td>2673.258693</td>\n",
              "      <td>1565.003639</td>\n",
              "      <td>1565.003639</td>\n",
              "      <td>528.367180</td>\n",
              "      <td>528.367180</td>\n",
              "      <td>528.367180</td>\n",
              "      <td>-59.098498</td>\n",
              "      <td>-59.098498</td>\n",
              "      <td>-59.098498</td>\n",
              "      <td>587.465678</td>\n",
              "      <td>587.465678</td>\n",
              "      <td>587.465678</td>\n",
              "      <td>0.0</td>\n",
              "      <td>0.0</td>\n",
              "      <td>0.0</td>\n",
              "      <td>2093.370819</td>\n",
              "    </tr>\n",
              "    <tr>\n",
              "      <th>1</th>\n",
              "      <td>2009-11-28</td>\n",
              "      <td>1565.085671</td>\n",
              "      <td>1805.905065</td>\n",
              "      <td>2965.829255</td>\n",
              "      <td>1565.085671</td>\n",
              "      <td>1565.085671</td>\n",
              "      <td>818.657604</td>\n",
              "      <td>818.657604</td>\n",
              "      <td>818.657604</td>\n",
              "      <td>238.675298</td>\n",
              "      <td>238.675298</td>\n",
              "      <td>238.675298</td>\n",
              "      <td>579.982305</td>\n",
              "      <td>579.982305</td>\n",
              "      <td>579.982305</td>\n",
              "      <td>0.0</td>\n",
              "      <td>0.0</td>\n",
              "      <td>0.0</td>\n",
              "      <td>2383.743274</td>\n",
              "    </tr>\n",
              "    <tr>\n",
              "      <th>2</th>\n",
              "      <td>2009-11-29</td>\n",
              "      <td>1565.167702</td>\n",
              "      <td>1811.338934</td>\n",
              "      <td>2928.555643</td>\n",
              "      <td>1565.167702</td>\n",
              "      <td>1565.167702</td>\n",
              "      <td>791.260573</td>\n",
              "      <td>791.260573</td>\n",
              "      <td>791.260573</td>\n",
              "      <td>220.722783</td>\n",
              "      <td>220.722783</td>\n",
              "      <td>220.722783</td>\n",
              "      <td>570.537789</td>\n",
              "      <td>570.537789</td>\n",
              "      <td>570.537789</td>\n",
              "      <td>0.0</td>\n",
              "      <td>0.0</td>\n",
              "      <td>0.0</td>\n",
              "      <td>2356.428275</td>\n",
              "    </tr>\n",
              "    <tr>\n",
              "      <th>3</th>\n",
              "      <td>2009-11-30</td>\n",
              "      <td>1565.249733</td>\n",
              "      <td>1431.799399</td>\n",
              "      <td>2544.659414</td>\n",
              "      <td>1565.249733</td>\n",
              "      <td>1565.249733</td>\n",
              "      <td>397.943500</td>\n",
              "      <td>397.943500</td>\n",
              "      <td>397.943500</td>\n",
              "      <td>-161.714901</td>\n",
              "      <td>-161.714901</td>\n",
              "      <td>-161.714901</td>\n",
              "      <td>559.658401</td>\n",
              "      <td>559.658401</td>\n",
              "      <td>559.658401</td>\n",
              "      <td>0.0</td>\n",
              "      <td>0.0</td>\n",
              "      <td>0.0</td>\n",
              "      <td>1963.193233</td>\n",
              "    </tr>\n",
              "    <tr>\n",
              "      <th>4</th>\n",
              "      <td>2009-12-01</td>\n",
              "      <td>1565.331764</td>\n",
              "      <td>1525.771815</td>\n",
              "      <td>2643.094652</td>\n",
              "      <td>1565.331764</td>\n",
              "      <td>1565.331764</td>\n",
              "      <td>523.514378</td>\n",
              "      <td>523.514378</td>\n",
              "      <td>523.514378</td>\n",
              "      <td>-24.375264</td>\n",
              "      <td>-24.375264</td>\n",
              "      <td>-24.375264</td>\n",
              "      <td>547.889642</td>\n",
              "      <td>547.889642</td>\n",
              "      <td>547.889642</td>\n",
              "      <td>0.0</td>\n",
              "      <td>0.0</td>\n",
              "      <td>0.0</td>\n",
              "      <td>2088.846143</td>\n",
              "    </tr>\n",
              "  </tbody>\n",
              "</table>\n",
              "</div>"
            ],
            "text/plain": [
              "          ds        trend  ...  multiplicative_terms_upper         yhat\n",
              "0 2009-11-27  1565.003639  ...                         0.0  2093.370819\n",
              "1 2009-11-28  1565.085671  ...                         0.0  2383.743274\n",
              "2 2009-11-29  1565.167702  ...                         0.0  2356.428275\n",
              "3 2009-11-30  1565.249733  ...                         0.0  1963.193233\n",
              "4 2009-12-01  1565.331764  ...                         0.0  2088.846143\n",
              "\n",
              "[5 rows x 19 columns]"
            ]
          },
          "metadata": {
            "tags": []
          },
          "execution_count": 23
        }
      ]
    },
    {
      "cell_type": "markdown",
      "metadata": {
        "id": "o0GiHr9MxRNd"
      },
      "source": [
        "### Cross validation"
      ]
    },
    {
      "cell_type": "code",
      "metadata": {
        "id": "Y6wiPPptwwy9",
        "outputId": "af06d008-8222-4aa9-f7a7-7d4e2977094c",
        "colab": {
          "base_uri": "https://localhost:8080/",
          "height": 83,
          "referenced_widgets": [
            "05629b49fd71454cb9ef4495df5b9328",
            "2387f60cb3674e1ca66b987d5a251eb2",
            "14aaad70fbeb4b038e4dbd1911afc698",
            "11a1465563904c369b92f7b8bf5427d1",
            "58dafb8fd4414ac59545e5167e54878f",
            "bd99936c5dd84d0abfdb8049753de54e",
            "bfe38163850842faac9ec14cf5ff7b3a",
            "42d531481f2947b9a2fa65562dc69d89"
          ]
        }
      },
      "source": [
        "from fbprophet.diagnostics import cross_validation\n",
        "df_cv = cross_validation(model, initial='711 days', \n",
        "                         period='365 days',\n",
        "                         horizon = '365 days')"
      ],
      "execution_count": 24,
      "outputs": [
        {
          "output_type": "stream",
          "text": [
            "INFO:fbprophet:Making 1 forecasts with cutoffs between 2008-11-26 00:00:00 and 2008-11-26 00:00:00\n"
          ],
          "name": "stderr"
        },
        {
          "output_type": "display_data",
          "data": {
            "application/vnd.jupyter.widget-view+json": {
              "model_id": "05629b49fd71454cb9ef4495df5b9328",
              "version_minor": 0,
              "version_major": 2
            },
            "text/plain": [
              "HBox(children=(FloatProgress(value=0.0, max=1.0), HTML(value='')))"
            ]
          },
          "metadata": {
            "tags": []
          }
        },
        {
          "output_type": "stream",
          "text": [
            "\n"
          ],
          "name": "stdout"
        }
      ]
    },
    {
      "cell_type": "markdown",
      "metadata": {
        "id": "GpXXpdK9xk9X"
      },
      "source": [
        "### Performance metrics"
      ]
    },
    {
      "cell_type": "code",
      "metadata": {
        "id": "kGxhszu3xU1j",
        "outputId": "2e28ed12-9ea0-44e7-8043-752c695d7d37",
        "colab": {
          "base_uri": "https://localhost:8080/",
          "height": 204
        }
      },
      "source": [
        "from fbprophet.diagnostics import performance_metrics\n",
        "df_p = performance_metrics(df_cv)\n",
        "df_p.head()"
      ],
      "execution_count": 25,
      "outputs": [
        {
          "output_type": "execute_result",
          "data": {
            "text/html": [
              "<div>\n",
              "<style scoped>\n",
              "    .dataframe tbody tr th:only-of-type {\n",
              "        vertical-align: middle;\n",
              "    }\n",
              "\n",
              "    .dataframe tbody tr th {\n",
              "        vertical-align: top;\n",
              "    }\n",
              "\n",
              "    .dataframe thead th {\n",
              "        text-align: right;\n",
              "    }\n",
              "</style>\n",
              "<table border=\"1\" class=\"dataframe\">\n",
              "  <thead>\n",
              "    <tr style=\"text-align: right;\">\n",
              "      <th></th>\n",
              "      <th>horizon</th>\n",
              "      <th>mse</th>\n",
              "      <th>rmse</th>\n",
              "      <th>mae</th>\n",
              "      <th>mape</th>\n",
              "      <th>mdape</th>\n",
              "      <th>coverage</th>\n",
              "    </tr>\n",
              "  </thead>\n",
              "  <tbody>\n",
              "    <tr>\n",
              "      <th>0</th>\n",
              "      <td>36 days</td>\n",
              "      <td>384143.816257</td>\n",
              "      <td>619.793366</td>\n",
              "      <td>451.981950</td>\n",
              "      <td>0.351359</td>\n",
              "      <td>0.156990</td>\n",
              "      <td>0.777778</td>\n",
              "    </tr>\n",
              "    <tr>\n",
              "      <th>1</th>\n",
              "      <td>37 days</td>\n",
              "      <td>380439.670254</td>\n",
              "      <td>616.797917</td>\n",
              "      <td>442.440298</td>\n",
              "      <td>0.347324</td>\n",
              "      <td>0.149132</td>\n",
              "      <td>0.777778</td>\n",
              "    </tr>\n",
              "    <tr>\n",
              "      <th>2</th>\n",
              "      <td>38 days</td>\n",
              "      <td>391304.638774</td>\n",
              "      <td>625.543475</td>\n",
              "      <td>454.688341</td>\n",
              "      <td>0.353678</td>\n",
              "      <td>0.163406</td>\n",
              "      <td>0.750000</td>\n",
              "    </tr>\n",
              "    <tr>\n",
              "      <th>3</th>\n",
              "      <td>39 days</td>\n",
              "      <td>402947.171432</td>\n",
              "      <td>634.781200</td>\n",
              "      <td>470.463283</td>\n",
              "      <td>0.362057</td>\n",
              "      <td>0.185618</td>\n",
              "      <td>0.722222</td>\n",
              "    </tr>\n",
              "    <tr>\n",
              "      <th>4</th>\n",
              "      <td>40 days</td>\n",
              "      <td>411489.226139</td>\n",
              "      <td>641.474260</td>\n",
              "      <td>485.290236</td>\n",
              "      <td>0.371422</td>\n",
              "      <td>0.203967</td>\n",
              "      <td>0.694444</td>\n",
              "    </tr>\n",
              "  </tbody>\n",
              "</table>\n",
              "</div>"
            ],
            "text/plain": [
              "  horizon            mse        rmse         mae      mape     mdape  coverage\n",
              "0 36 days  384143.816257  619.793366  451.981950  0.351359  0.156990  0.777778\n",
              "1 37 days  380439.670254  616.797917  442.440298  0.347324  0.149132  0.777778\n",
              "2 38 days  391304.638774  625.543475  454.688341  0.353678  0.163406  0.750000\n",
              "3 39 days  402947.171432  634.781200  470.463283  0.362057  0.185618  0.722222\n",
              "4 40 days  411489.226139  641.474260  485.290236  0.371422  0.203967  0.694444"
            ]
          },
          "metadata": {
            "tags": []
          },
          "execution_count": 25
        }
      ]
    },
    {
      "cell_type": "code",
      "metadata": {
        "id": "V0dzMbO2xqQd"
      },
      "source": [
        "new_test = test['y'].replace(0, np.nan).fillna(method='ffill')\n",
        "new_test.index = list(range(365))"
      ],
      "execution_count": 36,
      "outputs": []
    },
    {
      "cell_type": "code",
      "metadata": {
        "id": "_hbMeKz_RNCH",
        "outputId": "476d75bd-7ae5-427b-8fe2-d2528c3119bb",
        "colab": {
          "base_uri": "https://localhost:8080/",
          "height": 34
        }
      },
      "source": [
        "MAPE = np.mean(abs(new_test - forecast['yhat'])/new_test) * 100\n",
        "print('The MAPE is: %.3f' %MAPE)"
      ],
      "execution_count": 37,
      "outputs": [
        {
          "output_type": "stream",
          "text": [
            "The MAPE is: 26.237\n"
          ],
          "name": "stdout"
        }
      ]
    },
    {
      "cell_type": "code",
      "metadata": {
        "id": "wrQjbsn2y-kK",
        "outputId": "a124e9b9-297f-4038-a120-04fe48fd79b2",
        "colab": {
          "base_uri": "https://localhost:8080/",
          "height": 34
        }
      },
      "source": [
        "from sklearn.metrics import mean_squared_error\n",
        "rmse = np.sqrt(mean_squared_error(new_test, forecast['yhat']))\n",
        "print('The RMSE is: %.3f' %rmse)"
      ],
      "execution_count": 39,
      "outputs": [
        {
          "output_type": "stream",
          "text": [
            "The RMSE is: 401.909\n"
          ],
          "name": "stdout"
        }
      ]
    },
    {
      "cell_type": "markdown",
      "metadata": {
        "id": "Nd6tR3sTzeyY"
      },
      "source": [
        "### Multivariate analysis"
      ]
    },
    {
      "cell_type": "code",
      "metadata": {
        "id": "XaLVA-k-zQLg"
      },
      "source": [
        "df_daily3 = df_daily2.rename(columns = {'datetime': 'ds', \n",
        "                                   'Global_active_power':'y', \n",
        "                                   'Global_reactive_power': 'add1',\n",
        "                                   'Voltage':'add2', \n",
        "                                   'Global_intensity':'add3', \n",
        "                                   'Sub_metering_1':'add4', \n",
        "                                   'Sub_metering_2':'add5',  'Sub_metering_3':'add6'})\n"
      ],
      "execution_count": 43,
      "outputs": []
    },
    {
      "cell_type": "code",
      "metadata": {
        "id": "8s1I5j1Xz6ZC"
      },
      "source": [
        "train2 = df_daily3.iloc[:1077]\n",
        "test2 = df_daily3.iloc[1077:]"
      ],
      "execution_count": 44,
      "outputs": []
    },
    {
      "cell_type": "code",
      "metadata": {
        "id": "OwZy_Riw0N3v",
        "outputId": "ce452fb6-c9af-4081-962f-abbe57e33f06",
        "colab": {
          "base_uri": "https://localhost:8080/",
          "height": 34
        }
      },
      "source": [
        "model2 = Prophet(daily_seasonality=True)\n",
        "model2.fit(train2)"
      ],
      "execution_count": 45,
      "outputs": [
        {
          "output_type": "execute_result",
          "data": {
            "text/plain": [
              "<fbprophet.forecaster.Prophet at 0x7f2f26f81278>"
            ]
          },
          "metadata": {
            "tags": []
          },
          "execution_count": 45
        }
      ]
    },
    {
      "cell_type": "code",
      "metadata": {
        "id": "uu5SpBVl0ddq",
        "outputId": "e758b307-9c8b-4bc6-db7b-74dc19ab3bd3",
        "colab": {
          "base_uri": "https://localhost:8080/",
          "height": 309
        }
      },
      "source": [
        "future2 = model2.make_future_dataframe(periods = 365, freq='D', include_history = False)\n",
        "forecast2 = model2.predict(future)\n",
        "forecast2.head()"
      ],
      "execution_count": 47,
      "outputs": [
        {
          "output_type": "execute_result",
          "data": {
            "text/html": [
              "<div>\n",
              "<style scoped>\n",
              "    .dataframe tbody tr th:only-of-type {\n",
              "        vertical-align: middle;\n",
              "    }\n",
              "\n",
              "    .dataframe tbody tr th {\n",
              "        vertical-align: top;\n",
              "    }\n",
              "\n",
              "    .dataframe thead th {\n",
              "        text-align: right;\n",
              "    }\n",
              "</style>\n",
              "<table border=\"1\" class=\"dataframe\">\n",
              "  <thead>\n",
              "    <tr style=\"text-align: right;\">\n",
              "      <th></th>\n",
              "      <th>ds</th>\n",
              "      <th>trend</th>\n",
              "      <th>yhat_lower</th>\n",
              "      <th>yhat_upper</th>\n",
              "      <th>trend_lower</th>\n",
              "      <th>trend_upper</th>\n",
              "      <th>additive_terms</th>\n",
              "      <th>additive_terms_lower</th>\n",
              "      <th>additive_terms_upper</th>\n",
              "      <th>daily</th>\n",
              "      <th>daily_lower</th>\n",
              "      <th>daily_upper</th>\n",
              "      <th>weekly</th>\n",
              "      <th>weekly_lower</th>\n",
              "      <th>weekly_upper</th>\n",
              "      <th>yearly</th>\n",
              "      <th>yearly_lower</th>\n",
              "      <th>yearly_upper</th>\n",
              "      <th>multiplicative_terms</th>\n",
              "      <th>multiplicative_terms_lower</th>\n",
              "      <th>multiplicative_terms_upper</th>\n",
              "      <th>yhat</th>\n",
              "    </tr>\n",
              "  </thead>\n",
              "  <tbody>\n",
              "    <tr>\n",
              "      <th>0</th>\n",
              "      <td>2009-11-27</td>\n",
              "      <td>1220.171501</td>\n",
              "      <td>1534.700819</td>\n",
              "      <td>2651.598107</td>\n",
              "      <td>1220.171501</td>\n",
              "      <td>1220.171501</td>\n",
              "      <td>874.247092</td>\n",
              "      <td>874.247092</td>\n",
              "      <td>874.247092</td>\n",
              "      <td>345.671279</td>\n",
              "      <td>345.671279</td>\n",
              "      <td>345.671279</td>\n",
              "      <td>-59.093701</td>\n",
              "      <td>-59.093701</td>\n",
              "      <td>-59.093701</td>\n",
              "      <td>587.669513</td>\n",
              "      <td>587.669513</td>\n",
              "      <td>587.669513</td>\n",
              "      <td>0.0</td>\n",
              "      <td>0.0</td>\n",
              "      <td>0.0</td>\n",
              "      <td>2094.418593</td>\n",
              "    </tr>\n",
              "    <tr>\n",
              "      <th>1</th>\n",
              "      <td>2009-11-28</td>\n",
              "      <td>1220.257598</td>\n",
              "      <td>1876.433383</td>\n",
              "      <td>2946.825559</td>\n",
              "      <td>1220.257598</td>\n",
              "      <td>1220.257598</td>\n",
              "      <td>1164.546066</td>\n",
              "      <td>1164.546066</td>\n",
              "      <td>1164.546066</td>\n",
              "      <td>345.671279</td>\n",
              "      <td>345.671279</td>\n",
              "      <td>345.671279</td>\n",
              "      <td>238.675756</td>\n",
              "      <td>238.675756</td>\n",
              "      <td>238.675756</td>\n",
              "      <td>580.199031</td>\n",
              "      <td>580.199031</td>\n",
              "      <td>580.199031</td>\n",
              "      <td>0.0</td>\n",
              "      <td>0.0</td>\n",
              "      <td>0.0</td>\n",
              "      <td>2384.803664</td>\n",
              "    </tr>\n",
              "    <tr>\n",
              "      <th>2</th>\n",
              "      <td>2009-11-29</td>\n",
              "      <td>1220.343695</td>\n",
              "      <td>1773.959391</td>\n",
              "      <td>2925.305796</td>\n",
              "      <td>1220.343695</td>\n",
              "      <td>1220.343695</td>\n",
              "      <td>1137.159187</td>\n",
              "      <td>1137.159187</td>\n",
              "      <td>1137.159187</td>\n",
              "      <td>345.671279</td>\n",
              "      <td>345.671279</td>\n",
              "      <td>345.671279</td>\n",
              "      <td>220.722751</td>\n",
              "      <td>220.722751</td>\n",
              "      <td>220.722751</td>\n",
              "      <td>570.765157</td>\n",
              "      <td>570.765157</td>\n",
              "      <td>570.765157</td>\n",
              "      <td>0.0</td>\n",
              "      <td>0.0</td>\n",
              "      <td>0.0</td>\n",
              "      <td>2357.502882</td>\n",
              "    </tr>\n",
              "    <tr>\n",
              "      <th>3</th>\n",
              "      <td>2009-11-30</td>\n",
              "      <td>1220.429792</td>\n",
              "      <td>1394.425384</td>\n",
              "      <td>2500.201153</td>\n",
              "      <td>1220.429792</td>\n",
              "      <td>1220.429792</td>\n",
              "      <td>743.850189</td>\n",
              "      <td>743.850189</td>\n",
              "      <td>743.850189</td>\n",
              "      <td>345.671279</td>\n",
              "      <td>345.671279</td>\n",
              "      <td>345.671279</td>\n",
              "      <td>-161.715001</td>\n",
              "      <td>-161.715001</td>\n",
              "      <td>-161.715001</td>\n",
              "      <td>559.893911</td>\n",
              "      <td>559.893911</td>\n",
              "      <td>559.893911</td>\n",
              "      <td>0.0</td>\n",
              "      <td>0.0</td>\n",
              "      <td>0.0</td>\n",
              "      <td>1964.279981</td>\n",
              "    </tr>\n",
              "    <tr>\n",
              "      <th>4</th>\n",
              "      <td>2009-12-01</td>\n",
              "      <td>1220.515889</td>\n",
              "      <td>1556.434762</td>\n",
              "      <td>2673.042804</td>\n",
              "      <td>1220.515889</td>\n",
              "      <td>1220.515889</td>\n",
              "      <td>869.425631</td>\n",
              "      <td>869.425631</td>\n",
              "      <td>869.425631</td>\n",
              "      <td>345.671279</td>\n",
              "      <td>345.671279</td>\n",
              "      <td>345.671279</td>\n",
              "      <td>-24.376235</td>\n",
              "      <td>-24.376235</td>\n",
              "      <td>-24.376235</td>\n",
              "      <td>548.130587</td>\n",
              "      <td>548.130587</td>\n",
              "      <td>548.130587</td>\n",
              "      <td>0.0</td>\n",
              "      <td>0.0</td>\n",
              "      <td>0.0</td>\n",
              "      <td>2089.941519</td>\n",
              "    </tr>\n",
              "  </tbody>\n",
              "</table>\n",
              "</div>"
            ],
            "text/plain": [
              "          ds        trend  ...  multiplicative_terms_upper         yhat\n",
              "0 2009-11-27  1220.171501  ...                         0.0  2094.418593\n",
              "1 2009-11-28  1220.257598  ...                         0.0  2384.803664\n",
              "2 2009-11-29  1220.343695  ...                         0.0  2357.502882\n",
              "3 2009-11-30  1220.429792  ...                         0.0  1964.279981\n",
              "4 2009-12-01  1220.515889  ...                         0.0  2089.941519\n",
              "\n",
              "[5 rows x 22 columns]"
            ]
          },
          "metadata": {
            "tags": []
          },
          "execution_count": 47
        }
      ]
    },
    {
      "cell_type": "code",
      "metadata": {
        "id": "kHaSOhOESGZo"
      },
      "source": [
        "new_test2 = test2['y'].replace(0, np.nan).fillna(method='ffill')\n",
        "new_test2.index = list(range(365))"
      ],
      "execution_count": 48,
      "outputs": []
    },
    {
      "cell_type": "code",
      "metadata": {
        "id": "oKDojD_i0lsj",
        "outputId": "69b3dc87-5de3-4ddc-eacd-1da488f492b5",
        "colab": {
          "base_uri": "https://localhost:8080/",
          "height": 34
        }
      },
      "source": [
        "MAPE2 = np.mean(abs(new_test2 - forecast2['yhat'])/new_test2) * 100\n",
        "print('The MAPE is: %.3f' %MAPE2)"
      ],
      "execution_count": 50,
      "outputs": [
        {
          "output_type": "stream",
          "text": [
            "The MAPE is: 26.268\n"
          ],
          "name": "stdout"
        }
      ]
    },
    {
      "cell_type": "code",
      "metadata": {
        "id": "oikM_29v1GeA",
        "outputId": "edb47d72-7239-49ac-a226-c820a4e14250",
        "colab": {
          "base_uri": "https://localhost:8080/",
          "height": 34
        }
      },
      "source": [
        "rmse2 = np.sqrt(mean_squared_error(new_test2, forecast2['yhat']))\n",
        "print('The RMSE is: %.3f' %rmse2)"
      ],
      "execution_count": 52,
      "outputs": [
        {
          "output_type": "stream",
          "text": [
            "The RMSE is: 402.016\n"
          ],
          "name": "stdout"
        }
      ]
    },
    {
      "cell_type": "code",
      "metadata": {
        "id": "gNF2VDh41PLz",
        "outputId": "e2afdd31-dc04-4743-8193-9f4f8b5b5a43",
        "colab": {
          "base_uri": "https://localhost:8080/",
          "height": 83,
          "referenced_widgets": [
            "b6017b9ee6104a1b961ba7fe36339085",
            "3c78925336e74122a94bdb29ff57c0c4",
            "47098c7ea3b24ddd90965f82c6aabfe1",
            "2a6bafd45b2f467e8cfdafd90cf6268f",
            "8202794c06ac413890641072b70dcb15",
            "543da703bdb641ec8433c37b0d1ada7b",
            "476637426c2f429c8faf5b172f6160a1",
            "b813a4fc9e904e868b98eb5f8e700ea1"
          ]
        }
      },
      "source": [
        "df_cv2 = cross_validation(model2, initial='711 days', \n",
        "                         period='365 days',\n",
        "                         horizon = '365 days')"
      ],
      "execution_count": 53,
      "outputs": [
        {
          "output_type": "stream",
          "text": [
            "INFO:fbprophet:Making 1 forecasts with cutoffs between 2008-11-26 00:00:00 and 2008-11-26 00:00:00\n"
          ],
          "name": "stderr"
        },
        {
          "output_type": "display_data",
          "data": {
            "application/vnd.jupyter.widget-view+json": {
              "model_id": "b6017b9ee6104a1b961ba7fe36339085",
              "version_minor": 0,
              "version_major": 2
            },
            "text/plain": [
              "HBox(children=(FloatProgress(value=0.0, max=1.0), HTML(value='')))"
            ]
          },
          "metadata": {
            "tags": []
          }
        },
        {
          "output_type": "stream",
          "text": [
            "\n"
          ],
          "name": "stdout"
        }
      ]
    },
    {
      "cell_type": "code",
      "metadata": {
        "id": "ymNYVkix1VZ6",
        "outputId": "536e7c9e-e2b5-4aba-d0d4-98bef841b10e",
        "colab": {
          "base_uri": "https://localhost:8080/",
          "height": 204
        }
      },
      "source": [
        "df_p2 = performance_metrics(df_cv2)\n",
        "df_p2.head()"
      ],
      "execution_count": 54,
      "outputs": [
        {
          "output_type": "execute_result",
          "data": {
            "text/html": [
              "<div>\n",
              "<style scoped>\n",
              "    .dataframe tbody tr th:only-of-type {\n",
              "        vertical-align: middle;\n",
              "    }\n",
              "\n",
              "    .dataframe tbody tr th {\n",
              "        vertical-align: top;\n",
              "    }\n",
              "\n",
              "    .dataframe thead th {\n",
              "        text-align: right;\n",
              "    }\n",
              "</style>\n",
              "<table border=\"1\" class=\"dataframe\">\n",
              "  <thead>\n",
              "    <tr style=\"text-align: right;\">\n",
              "      <th></th>\n",
              "      <th>horizon</th>\n",
              "      <th>mse</th>\n",
              "      <th>rmse</th>\n",
              "      <th>mae</th>\n",
              "      <th>mape</th>\n",
              "      <th>mdape</th>\n",
              "      <th>coverage</th>\n",
              "    </tr>\n",
              "  </thead>\n",
              "  <tbody>\n",
              "    <tr>\n",
              "      <th>0</th>\n",
              "      <td>36 days</td>\n",
              "      <td>381578.437353</td>\n",
              "      <td>617.720355</td>\n",
              "      <td>450.341544</td>\n",
              "      <td>0.350118</td>\n",
              "      <td>0.156770</td>\n",
              "      <td>0.777778</td>\n",
              "    </tr>\n",
              "    <tr>\n",
              "      <th>1</th>\n",
              "      <td>37 days</td>\n",
              "      <td>377852.234911</td>\n",
              "      <td>614.696864</td>\n",
              "      <td>440.669643</td>\n",
              "      <td>0.346027</td>\n",
              "      <td>0.147969</td>\n",
              "      <td>0.777778</td>\n",
              "    </tr>\n",
              "    <tr>\n",
              "      <th>2</th>\n",
              "      <td>38 days</td>\n",
              "      <td>388587.202188</td>\n",
              "      <td>623.367630</td>\n",
              "      <td>452.836880</td>\n",
              "      <td>0.352338</td>\n",
              "      <td>0.162632</td>\n",
              "      <td>0.750000</td>\n",
              "    </tr>\n",
              "    <tr>\n",
              "      <th>3</th>\n",
              "      <td>39 days</td>\n",
              "      <td>400086.235231</td>\n",
              "      <td>632.523703</td>\n",
              "      <td>468.475725</td>\n",
              "      <td>0.360650</td>\n",
              "      <td>0.184553</td>\n",
              "      <td>0.722222</td>\n",
              "    </tr>\n",
              "    <tr>\n",
              "      <th>4</th>\n",
              "      <td>40 days</td>\n",
              "      <td>408510.641496</td>\n",
              "      <td>639.148372</td>\n",
              "      <td>483.165465</td>\n",
              "      <td>0.369937</td>\n",
              "      <td>0.202401</td>\n",
              "      <td>0.722222</td>\n",
              "    </tr>\n",
              "  </tbody>\n",
              "</table>\n",
              "</div>"
            ],
            "text/plain": [
              "  horizon            mse        rmse         mae      mape     mdape  coverage\n",
              "0 36 days  381578.437353  617.720355  450.341544  0.350118  0.156770  0.777778\n",
              "1 37 days  377852.234911  614.696864  440.669643  0.346027  0.147969  0.777778\n",
              "2 38 days  388587.202188  623.367630  452.836880  0.352338  0.162632  0.750000\n",
              "3 39 days  400086.235231  632.523703  468.475725  0.360650  0.184553  0.722222\n",
              "4 40 days  408510.641496  639.148372  483.165465  0.369937  0.202401  0.722222"
            ]
          },
          "metadata": {
            "tags": []
          },
          "execution_count": 54
        }
      ]
    },
    {
      "cell_type": "code",
      "metadata": {
        "id": "sdQ9CURlTAKJ"
      },
      "source": [
        ""
      ],
      "execution_count": null,
      "outputs": []
    }
  ]
}